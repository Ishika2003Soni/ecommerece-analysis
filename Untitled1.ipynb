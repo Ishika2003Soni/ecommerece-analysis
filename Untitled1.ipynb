{
 "cells": [
  {
   "cell_type": "code",
   "execution_count": 7,
   "id": "81459aa9",
   "metadata": {},
   "outputs": [],
   "source": [
    "import pandas as pd\n",
    "\n",
    "# Data Handling\n",
    "#===================\n",
    "from mlxtend.frequent_patterns import apriori, association_rules\n",
    "\n",
    "# Visualization\n",
    "#===================\n",
    "import matplotlib.pyplot as plt\n",
    "import seaborn as sns\n",
    "import plotly.express as px\n",
    "\n",
    "# Warnings\n",
    "#===================\n",
    "import warnings\n",
    "warnings.filterwarnings('ignore')"
   ]
  },
  {
   "cell_type": "code",
   "execution_count": 8,
   "id": "3e56a806",
   "metadata": {},
   "outputs": [
    {
     "data": {
      "text/html": [
       "<div>\n",
       "<style scoped>\n",
       "    .dataframe tbody tr th:only-of-type {\n",
       "        vertical-align: middle;\n",
       "    }\n",
       "\n",
       "    .dataframe tbody tr th {\n",
       "        vertical-align: top;\n",
       "    }\n",
       "\n",
       "    .dataframe thead th {\n",
       "        text-align: right;\n",
       "    }\n",
       "</style>\n",
       "<table border=\"1\" class=\"dataframe\">\n",
       "  <thead>\n",
       "    <tr style=\"text-align: right;\">\n",
       "      <th></th>\n",
       "      <th>BillNo</th>\n",
       "      <th>Itemname</th>\n",
       "      <th>Quantity</th>\n",
       "      <th>Date</th>\n",
       "      <th>Price</th>\n",
       "      <th>CustomerID</th>\n",
       "      <th>Country</th>\n",
       "    </tr>\n",
       "  </thead>\n",
       "  <tbody>\n",
       "    <tr>\n",
       "      <th>0</th>\n",
       "      <td>536365</td>\n",
       "      <td>WHITE HANGING HEART T-LIGHT HOLDER</td>\n",
       "      <td>6</td>\n",
       "      <td>2010-12-01 08:26:00</td>\n",
       "      <td>2.55</td>\n",
       "      <td>17850.0</td>\n",
       "      <td>United Kingdom</td>\n",
       "    </tr>\n",
       "    <tr>\n",
       "      <th>1</th>\n",
       "      <td>536365</td>\n",
       "      <td>WHITE METAL LANTERN</td>\n",
       "      <td>6</td>\n",
       "      <td>2010-12-01 08:26:00</td>\n",
       "      <td>3.39</td>\n",
       "      <td>17850.0</td>\n",
       "      <td>United Kingdom</td>\n",
       "    </tr>\n",
       "    <tr>\n",
       "      <th>2</th>\n",
       "      <td>536365</td>\n",
       "      <td>CREAM CUPID HEARTS COAT HANGER</td>\n",
       "      <td>8</td>\n",
       "      <td>2010-12-01 08:26:00</td>\n",
       "      <td>2.75</td>\n",
       "      <td>17850.0</td>\n",
       "      <td>United Kingdom</td>\n",
       "    </tr>\n",
       "    <tr>\n",
       "      <th>3</th>\n",
       "      <td>536365</td>\n",
       "      <td>KNITTED UNION FLAG HOT WATER BOTTLE</td>\n",
       "      <td>6</td>\n",
       "      <td>2010-12-01 08:26:00</td>\n",
       "      <td>3.39</td>\n",
       "      <td>17850.0</td>\n",
       "      <td>United Kingdom</td>\n",
       "    </tr>\n",
       "    <tr>\n",
       "      <th>4</th>\n",
       "      <td>536365</td>\n",
       "      <td>RED WOOLLY HOTTIE WHITE HEART.</td>\n",
       "      <td>6</td>\n",
       "      <td>2010-12-01 08:26:00</td>\n",
       "      <td>3.39</td>\n",
       "      <td>17850.0</td>\n",
       "      <td>United Kingdom</td>\n",
       "    </tr>\n",
       "  </tbody>\n",
       "</table>\n",
       "</div>"
      ],
      "text/plain": [
       "   BillNo                             Itemname  Quantity                Date  \\\n",
       "0  536365   WHITE HANGING HEART T-LIGHT HOLDER         6 2010-12-01 08:26:00   \n",
       "1  536365                  WHITE METAL LANTERN         6 2010-12-01 08:26:00   \n",
       "2  536365       CREAM CUPID HEARTS COAT HANGER         8 2010-12-01 08:26:00   \n",
       "3  536365  KNITTED UNION FLAG HOT WATER BOTTLE         6 2010-12-01 08:26:00   \n",
       "4  536365       RED WOOLLY HOTTIE WHITE HEART.         6 2010-12-01 08:26:00   \n",
       "\n",
       "   Price  CustomerID         Country  \n",
       "0   2.55     17850.0  United Kingdom  \n",
       "1   3.39     17850.0  United Kingdom  \n",
       "2   2.75     17850.0  United Kingdom  \n",
       "3   3.39     17850.0  United Kingdom  \n",
       "4   3.39     17850.0  United Kingdom  "
      ]
     },
     "execution_count": 8,
     "metadata": {},
     "output_type": "execute_result"
    }
   ],
   "source": [
    "path = 'Assignment-1_Data.xlsx'\n",
    "df_original = pd.read_excel(path)\n",
    "df = df_original.copy()\n",
    "df.head()"
   ]
  },
  {
   "cell_type": "code",
   "execution_count": 9,
   "id": "7a9cdd80",
   "metadata": {},
   "outputs": [
    {
     "name": "stdout",
     "output_type": "stream",
     "text": [
      "##################################################\n",
      "                Dataset Information\n",
      "##################################################\n",
      "The Dataset has 7 columns and 522064 rows.\n",
      "The DataFrame has 5286 duplicated values and 135496 missing values.\n",
      "<class 'pandas.core.frame.DataFrame'>\n",
      "RangeIndex: 522064 entries, 0 to 522063\n",
      "Data columns (total 7 columns):\n",
      " #   Column      Non-Null Count   Dtype         \n",
      "---  ------      --------------   -----         \n",
      " 0   BillNo      522064 non-null  object        \n",
      " 1   Itemname    520609 non-null  object        \n",
      " 2   Quantity    522064 non-null  int64         \n",
      " 3   Date        522064 non-null  datetime64[ns]\n",
      " 4   Price       522064 non-null  float64       \n",
      " 5   CustomerID  388023 non-null  float64       \n",
      " 6   Country     522064 non-null  object        \n",
      "dtypes: datetime64[ns](1), float64(2), int64(1), object(3)\n",
      "memory usage: 27.9+ MB\n",
      "None\n"
     ]
    }
   ],
   "source": [
    "print(\"#\" * 50)\n",
    "print(\" \" * 15, \"Dataset Information\")\n",
    "print(\"#\" * 50)\n",
    "print(\"The Dataset has {} columns and {} rows.\".format(df.shape[1], df.shape[0]))\n",
    "print(\"The DataFrame has {} duplicated values and {} missing values.\".format(df.duplicated().sum(), df.isnull().sum().sum()))\n",
    "print(df.info())"
   ]
  },
  {
   "cell_type": "code",
   "execution_count": 10,
   "id": "47a4c273",
   "metadata": {},
   "outputs": [],
   "source": [
    "df.drop_duplicates(inplace=True)"
   ]
  },
  {
   "cell_type": "code",
   "execution_count": 11,
   "id": "193bfd54",
   "metadata": {},
   "outputs": [
    {
     "name": "stdout",
     "output_type": "stream",
     "text": [
      "##############################\n",
      "      Null Distribution\n",
      "##############################\n"
     ]
    },
    {
     "data": {
      "text/html": [
       "<style type=\"text/css\">\n",
       "#T_ec4ec_row0_col0, #T_ec4ec_row0_col1 {\n",
       "  background-color: #00441b;\n",
       "  color: #f1f1f1;\n",
       "}\n",
       "#T_ec4ec_row1_col0, #T_ec4ec_row1_col1 {\n",
       "  background-color: #44034f;\n",
       "  color: #f1f1f1;\n",
       "}\n",
       "#T_ec4ec_row2_col0, #T_ec4ec_row2_col1, #T_ec4ec_row3_col0, #T_ec4ec_row3_col1, #T_ec4ec_row4_col0, #T_ec4ec_row4_col1, #T_ec4ec_row5_col0, #T_ec4ec_row5_col1, #T_ec4ec_row6_col0, #T_ec4ec_row6_col1 {\n",
       "  background-color: #40004b;\n",
       "  color: #f1f1f1;\n",
       "}\n",
       "</style>\n",
       "<table id=\"T_ec4ec\">\n",
       "  <thead>\n",
       "    <tr>\n",
       "      <th class=\"blank level0\" >&nbsp;</th>\n",
       "      <th id=\"T_ec4ec_level0_col0\" class=\"col_heading level0 col0\" >count</th>\n",
       "      <th id=\"T_ec4ec_level0_col1\" class=\"col_heading level0 col1\" >%</th>\n",
       "    </tr>\n",
       "  </thead>\n",
       "  <tbody>\n",
       "    <tr>\n",
       "      <th id=\"T_ec4ec_level0_row0\" class=\"row_heading level0 row0\" >CustomerID</th>\n",
       "      <td id=\"T_ec4ec_row0_col0\" class=\"data row0 col0\" >133967</td>\n",
       "      <td id=\"T_ec4ec_row0_col1\" class=\"data row0 col1\" >25.923511</td>\n",
       "    </tr>\n",
       "    <tr>\n",
       "      <th id=\"T_ec4ec_level0_row1\" class=\"row_heading level0 row1\" >Itemname</th>\n",
       "      <td id=\"T_ec4ec_row1_col0\" class=\"data row1 col0\" >1455</td>\n",
       "      <td id=\"T_ec4ec_row1_col1\" class=\"data row1 col1\" >0.281552</td>\n",
       "    </tr>\n",
       "    <tr>\n",
       "      <th id=\"T_ec4ec_level0_row2\" class=\"row_heading level0 row2\" >BillNo</th>\n",
       "      <td id=\"T_ec4ec_row2_col0\" class=\"data row2 col0\" >0</td>\n",
       "      <td id=\"T_ec4ec_row2_col1\" class=\"data row2 col1\" >0.000000</td>\n",
       "    </tr>\n",
       "    <tr>\n",
       "      <th id=\"T_ec4ec_level0_row3\" class=\"row_heading level0 row3\" >Quantity</th>\n",
       "      <td id=\"T_ec4ec_row3_col0\" class=\"data row3 col0\" >0</td>\n",
       "      <td id=\"T_ec4ec_row3_col1\" class=\"data row3 col1\" >0.000000</td>\n",
       "    </tr>\n",
       "    <tr>\n",
       "      <th id=\"T_ec4ec_level0_row4\" class=\"row_heading level0 row4\" >Date</th>\n",
       "      <td id=\"T_ec4ec_row4_col0\" class=\"data row4 col0\" >0</td>\n",
       "      <td id=\"T_ec4ec_row4_col1\" class=\"data row4 col1\" >0.000000</td>\n",
       "    </tr>\n",
       "    <tr>\n",
       "      <th id=\"T_ec4ec_level0_row5\" class=\"row_heading level0 row5\" >Price</th>\n",
       "      <td id=\"T_ec4ec_row5_col0\" class=\"data row5 col0\" >0</td>\n",
       "      <td id=\"T_ec4ec_row5_col1\" class=\"data row5 col1\" >0.000000</td>\n",
       "    </tr>\n",
       "    <tr>\n",
       "      <th id=\"T_ec4ec_level0_row6\" class=\"row_heading level0 row6\" >Country</th>\n",
       "      <td id=\"T_ec4ec_row6_col0\" class=\"data row6 col0\" >0</td>\n",
       "      <td id=\"T_ec4ec_row6_col1\" class=\"data row6 col1\" >0.000000</td>\n",
       "    </tr>\n",
       "  </tbody>\n",
       "</table>\n"
      ],
      "text/plain": [
       "<pandas.io.formats.style.Styler at 0x1987eb64280>"
      ]
     },
     "execution_count": 11,
     "metadata": {},
     "output_type": "execute_result"
    }
   ],
   "source": [
    "print(\"#\" * 30)\n",
    "print(\" \" * 5, \"Null Distribution\")\n",
    "print(\"#\" * 30)\n",
    "null = df.isnull().sum().to_frame().rename(columns = {0:'count'})\n",
    "null['%'] = (null['count'] / len(df)) * 100.\n",
    "null = null.sort_values(by = '%', ascending = False)\n",
    "null.style.background_gradient(cmap = 'PRGn')"
   ]
  },
  {
   "cell_type": "code",
   "execution_count": 12,
   "id": "88c4edd8",
   "metadata": {},
   "outputs": [],
   "source": [
    "df.dropna(subset=['CustomerID', 'Itemname'], inplace=True)\n"
   ]
  },
  {
   "cell_type": "code",
   "execution_count": 13,
   "id": "5431c66c",
   "metadata": {},
   "outputs": [],
   "source": [
    "df = df.rename(columns={'Itemname': 'ItemName'})\n",
    "df['ItemName'] = df['ItemName'].str.lower()\n",
    "df['CustomerID'] = df['CustomerID'].astype('int')"
   ]
  },
  {
   "cell_type": "code",
   "execution_count": 14,
   "id": "cb5c20df",
   "metadata": {},
   "outputs": [
    {
     "data": {
      "text/html": [
       "<div>\n",
       "<style scoped>\n",
       "    .dataframe tbody tr th:only-of-type {\n",
       "        vertical-align: middle;\n",
       "    }\n",
       "\n",
       "    .dataframe tbody tr th {\n",
       "        vertical-align: top;\n",
       "    }\n",
       "\n",
       "    .dataframe thead th {\n",
       "        text-align: right;\n",
       "    }\n",
       "</style>\n",
       "<table border=\"1\" class=\"dataframe\">\n",
       "  <thead>\n",
       "    <tr style=\"text-align: right;\">\n",
       "      <th></th>\n",
       "      <th>ItemName</th>\n",
       "    </tr>\n",
       "  </thead>\n",
       "  <tbody>\n",
       "    <tr>\n",
       "      <th>0</th>\n",
       "      <td>white hanging heart t-light holder, white meta...</td>\n",
       "    </tr>\n",
       "    <tr>\n",
       "      <th>1</th>\n",
       "      <td>hand warmer union jack, hand warmer red polka dot</td>\n",
       "    </tr>\n",
       "    <tr>\n",
       "      <th>2</th>\n",
       "      <td>assorted colour bird ornament, poppy's playhou...</td>\n",
       "    </tr>\n",
       "    <tr>\n",
       "      <th>3</th>\n",
       "      <td>jam making set with jars, red coat rack paris ...</td>\n",
       "    </tr>\n",
       "    <tr>\n",
       "      <th>4</th>\n",
       "      <td>bath building block word</td>\n",
       "    </tr>\n",
       "  </tbody>\n",
       "</table>\n",
       "</div>"
      ],
      "text/plain": [
       "                                            ItemName\n",
       "0  white hanging heart t-light holder, white meta...\n",
       "1  hand warmer union jack, hand warmer red polka dot\n",
       "2  assorted colour bird ornament, poppy's playhou...\n",
       "3  jam making set with jars, red coat rack paris ...\n",
       "4                           bath building block word"
      ]
     },
     "execution_count": 14,
     "metadata": {},
     "output_type": "execute_result"
    }
   ],
   "source": [
    "transactions_original = df.groupby(['BillNo', 'Date'])['ItemName'].apply(lambda x: ', '.join(x)).reset_index()\n",
    "\n",
    "transactions_original.drop(columns=['BillNo', 'Date'], inplace=True)\n",
    "\n",
    "transactions_original.head()"
   ]
  },
  {
   "cell_type": "code",
   "execution_count": 15,
   "id": "40be4304",
   "metadata": {},
   "outputs": [
    {
     "data": {
      "text/html": [
       "<div>\n",
       "<style scoped>\n",
       "    .dataframe tbody tr th:only-of-type {\n",
       "        vertical-align: middle;\n",
       "    }\n",
       "\n",
       "    .dataframe tbody tr th {\n",
       "        vertical-align: top;\n",
       "    }\n",
       "\n",
       "    .dataframe thead th {\n",
       "        text-align: right;\n",
       "    }\n",
       "</style>\n",
       "<table border=\"1\" class=\"dataframe\">\n",
       "  <thead>\n",
       "    <tr style=\"text-align: right;\">\n",
       "      <th></th>\n",
       "      <th>ItemName</th>\n",
       "    </tr>\n",
       "  </thead>\n",
       "  <tbody>\n",
       "    <tr>\n",
       "      <th>0</th>\n",
       "      <td>white hanging heart t-light holder, white meta...</td>\n",
       "    </tr>\n",
       "    <tr>\n",
       "      <th>1</th>\n",
       "      <td>hand warmer union jack, hand warmer red polka dot</td>\n",
       "    </tr>\n",
       "    <tr>\n",
       "      <th>2</th>\n",
       "      <td>assorted colour bird ornament, poppy's playhou...</td>\n",
       "    </tr>\n",
       "    <tr>\n",
       "      <th>3</th>\n",
       "      <td>jam making set with jars, red coat rack paris ...</td>\n",
       "    </tr>\n",
       "    <tr>\n",
       "      <th>4</th>\n",
       "      <td>bath building block word</td>\n",
       "    </tr>\n",
       "  </tbody>\n",
       "</table>\n",
       "</div>"
      ],
      "text/plain": [
       "                                            ItemName\n",
       "0  white hanging heart t-light holder, white meta...\n",
       "1  hand warmer union jack, hand warmer red polka dot\n",
       "2  assorted colour bird ornament, poppy's playhou...\n",
       "3  jam making set with jars, red coat rack paris ...\n",
       "4                           bath building block word"
      ]
     },
     "execution_count": 15,
     "metadata": {},
     "output_type": "execute_result"
    }
   ],
   "source": [
    "transactions = transactions_original.copy()\n",
    "transactions.head()"
   ]
  },
  {
   "cell_type": "code",
   "execution_count": null,
   "id": "b4fb0e62",
   "metadata": {},
   "outputs": [],
   "source": []
  },
  {
   "cell_type": "code",
   "execution_count": null,
   "id": "b1212096",
   "metadata": {},
   "outputs": [
    {
     "name": "stdout",
     "output_type": "stream",
     "text": [
      "                                  0                            1    \\\n",
      "0  white hanging heart t-light holder          white metal lantern   \n",
      "1              hand warmer union jack    hand warmer red polka dot   \n",
      "2       assorted colour bird ornament    poppy's playhouse bedroom   \n",
      "3            jam making set with jars  red coat rack paris fashion   \n",
      "4            bath building block word                         None   \n",
      "\n",
      "                              2                                    3    \\\n",
      "0  cream cupid hearts coat hanger  knitted union flag hot water bottle   \n",
      "1                            None                                 None   \n",
      "2       poppy's playhouse kitchen    feltcraft princess charlotte doll   \n",
      "3  yellow coat rack paris fashion         blue coat rack paris fashion   \n",
      "4                            None                                 None   \n",
      "\n",
      "                              4                                   5    \\\n",
      "0  red woolly hottie white heart.        set 7 babushka nesting boxes   \n",
      "1                            None                                None   \n",
      "2          ivory knitted mug cosy  box of 6 assorted colour teaspoons   \n",
      "3                            None                                None   \n",
      "4                            None                                None   \n",
      "\n",
      "                                 6                               7    \\\n",
      "0  glass star frosted t-light holder                            None   \n",
      "1                               None                            None   \n",
      "2       box of vintage jigsaw blocks  box of vintage alphabet blocks   \n",
      "3                               None                            None   \n",
      "4                               None                            None   \n",
      "\n",
      "                        8                         9    ...   534   535   536  \\\n",
      "0                      None                      None  ...  None  None  None   \n",
      "1                      None                      None  ...  None  None  None   \n",
      "2  home building block word  love building block word  ...  None  None  None   \n",
      "3                      None                      None  ...  None  None  None   \n",
      "4                      None                      None  ...  None  None  None   \n",
      "\n",
      "    537   538   539   540   541   542   543  \n",
      "0  None  None  None  None  None  None  None  \n",
      "1  None  None  None  None  None  None  None  \n",
      "2  None  None  None  None  None  None  None  \n",
      "3  None  None  None  None  None  None  None  \n",
      "4  None  None  None  None  None  None  None  \n",
      "\n",
      "[5 rows x 544 columns]\n"
     ]
    }
   ],
   "source": [
    "def transform_and_validate_transactions(transactions_df, original_df):\n",
    "    \n",
    "    # Split 'ItemName' into individual items\n",
    "    items_df = transactions_df['ItemName'].str.split(', ', expand=True)\n",
    "    \n",
    "    # Calculate the number of unique ['BillNo', 'Date'] combinations in original_df\n",
    "    unique_transactions_count = original_df.drop_duplicates(subset=['BillNo', 'Date']).shape[0]\n",
    "    # Validate the number of rows\n",
    "    assert items_df.shape[0] == unique_transactions_count, \\\n",
    "        f\"Row count mismatch! Expected: {unique_transactions_count}, Got: {items_df.shape[0]}\"\n",
    "    \n",
    "    # Calculate the number of unique items across all transactions\n",
    "    all_items = set()\n",
    "    original_df['ItemName'].str.split(', ').apply(lambda items: all_items.update(items if items else []))\n",
    "    max_product_counts = transactions['ItemName'].str.split(', ').apply(len).max()\n",
    "    # Validate the number of columns\n",
    "    assert items_df.shape[1] == max_product_counts, \\\n",
    "        f\"Column count mismatch! Expected: {max_product_counts}, Got: {items_df.shape[1]}\"\n",
    "    \n",
    "    # Return the transformed and validated DataFrame\n",
    "    return items_df\n",
    "\n",
    "# Apply the function and validate the results\n",
    "transformed_and_validated_transactions = transform_and_validate_transactions(transactions_original, df)\n",
    "print(transformed_and_validated_transactions.head())\n"
   ]
  },
  {
   "cell_type": "code",
   "execution_count": 17,
   "id": "67aea07a",
   "metadata": {
    "scrolled": true
   },
   "outputs": [],
   "source": [
    "# Convert items to boolean columns\n",
    "df_encoded = pd.get_dummies(transformed_and_validated_transactions, prefix='', prefix_sep='').groupby(level=0, axis=1).max()"
   ]
  },
  {
   "cell_type": "code",
   "execution_count": 19,
   "id": "e56dad1d",
   "metadata": {},
   "outputs": [
    {
     "name": "stdout",
     "output_type": "stream",
     "text": [
      "Association Rules:\n",
      "                         antecedents                        consequents  \\\n",
      "0  (60 cake cases dolly girl design)  (pack of 72 retrospot cake cases)   \n",
      "1      (60 teatime fairy cake cases)  (pack of 72 retrospot cake cases)   \n",
      "2   (alarm clock bakelike chocolate)       (alarm clock bakelike green)   \n",
      "3   (alarm clock bakelike chocolate)         (alarm clock bakelike red)   \n",
      "4       (alarm clock bakelike ivory)       (alarm clock bakelike green)   \n",
      "\n",
      "   antecedent support  consequent support   support  confidence       lift  \\\n",
      "0            0.018525            0.054529  0.010059    0.543027   9.958409   \n",
      "1            0.034631            0.054529  0.017315    0.500000   9.169355   \n",
      "2            0.017150            0.042931  0.011379    0.663462  15.454151   \n",
      "3            0.017150            0.046999  0.011983    0.698718  14.866757   \n",
      "4            0.025341            0.042931  0.014952    0.590022  13.743501   \n",
      "\n",
      "   representativity  leverage  conviction  zhangs_metric   jaccard  certainty  \\\n",
      "0               1.0  0.009049    2.068984       0.916561  0.159686   0.516671   \n",
      "1               1.0  0.015427    1.890941       0.922902  0.241010   0.471163   \n",
      "2               1.0  0.010642    2.843862       0.951613  0.233634   0.648366   \n",
      "3               1.0  0.011177    3.163153       0.949012  0.229715   0.683860   \n",
      "4               1.0  0.013864    2.334438       0.951346  0.280412   0.571631   \n",
      "\n",
      "   kulczynski  \n",
      "0    0.363751  \n",
      "1    0.408770  \n",
      "2    0.464253  \n",
      "3    0.476844  \n",
      "4    0.469147  \n"
     ]
    }
   ],
   "source": [
    "from mlxtend.frequent_patterns import apriori, association_rules\n",
    "\n",
    "def mine_association_rules(transactions_df, min_support=0.01, min_confidence=0.5):\n",
    "    \"\"\"\n",
    "    This function encodes the transactions into boolean values, performs association rule mining,\n",
    "    and returns the resulting rules.\n",
    "    \n",
    "    :param transactions_df: DataFrame with transactions where each item is represented in its own column.\n",
    "    :param min_support: The minimum support for an itemset to be considered frequent.\n",
    "    :param min_confidence: The minimum confidence for a rule to be considered.\n",
    "    :return: DataFrame containing the association rules.\n",
    "    \"\"\"\n",
    "    # Convert items to boolean columns\n",
    "    df_encoded = pd.get_dummies(transactions_df, prefix='', prefix_sep='').groupby(level=0, axis=1).max()\n",
    "    \n",
    "    # Perform association rule mining\n",
    "    frequent_itemsets = apriori(df_encoded, min_support=min_support, use_colnames=True)\n",
    "    rules = association_rules(frequent_itemsets, metric=\"confidence\", min_threshold=min_confidence)\n",
    "    \n",
    "    return rules\n",
    "\n",
    "# Now, use the function and display the association rules\n",
    "rules = mine_association_rules(transformed_and_validated_transactions)\n",
    "print(\"Association Rules:\")\n",
    "print(rules.head())"
   ]
  },
  {
   "cell_type": "code",
   "execution_count": 27,
   "id": "7b7eae3d",
   "metadata": {},
   "outputs": [
    {
     "data": {
      "image/png": "[encoded data removed]",
      "text/plain": [
       "<Figure size 1200x800 with 1 Axes>"
      ]
     },
     "metadata": {},
     "output_type": "display_data"
    }
   ],
   "source": [
    "plt.figure(figsize=(12, 8))\n",
    "\n",
    "# Set the background color\n",
    "plt.axes().set_facecolor('#e1f7fc')  \n",
    "\n",
    "# Plot scatterplot for Support vs. Confidence\n",
    "sns.scatterplot(\n",
    "    x=\"support\",\n",
    "    y=\"confidence\",\n",
    "    size=\"lift\",\n",
    "    data=rules,\n",
    "    hue=\"lift\",\n",
    "    palette=\"inferno\", # Color palette\n",
    "    sizes=(20, 200),\n",
    "    alpha=0.6,  # Transparency\n",
    "    edgecolor=None  # Remove edge color for smoother appearance\n",
    ")\n",
    "\n",
    "# Customize the plot\n",
    "plt.title('Support vs. Confidence', color='#9B60A1', fontweight='bold')  # #9B60A1 is purple\n",
    "plt.xlabel('Support', color='#9B60A1', fontweight='bold')  \n",
    "plt.ylabel('Confidence', color='#9B60A1', fontweight='bold')  \n",
    "legend = plt.legend(title='Lift', loc='upper right', bbox_to_anchor=(1.25, 1))\n",
    "plt.setp(legend.get_texts(), color='#9B60A1')\n",
    "plt.savefig(\"support_vs_confidence.png\", dpi=300, bbox_inches='tight')\n",
    "# Show the plot\n",
    "plt.show()"
   ]
  },
  {
   "cell_type": "code",
   "execution_count": 22,
   "id": "7672a0a5",
   "metadata": {},
   "outputs": [],
   "source": [
    "import streamlit as st"
   ]
  },
  {
   "cell_type": "code",
   "execution_count": null,
   "id": "077abca5",
   "metadata": {},
   "outputs": [
    {
     "name": "stderr",
     "output_type": "stream",
     "text": [
      "2025-03-01 12:03:40.180 \n",
      "  \u001b[33m\u001b[1mWarning:\u001b[0m to view this Streamlit app on a browser, run it with the following\n",
      "  command:\n",
      "\n",
      "    streamlit run d:\\anaconda\\lib\\site-packages\\ipykernel_launcher.py [ARGUMENTS]\n"
     ]
    }
   ],
   "source": []
  },
  {
   "cell_type": "code",
   "execution_count": 26,
   "id": "cb2fc046",
   "metadata": {},
   "outputs": [],
   "source": [
    "rules.to_csv(\"associationRules.csv\")"
   ]
  },
  {
   "cell_type": "code",
   "execution_count": null,
   "id": "638e9bf1",
   "metadata": {},
   "outputs": [],
   "source": [
    "plt.savefig\n",
    "()"
   ]
  },
  {
   "cell_type": "code",
   "execution_count": null,
   "id": "170f1937",
   "metadata": {},
   "outputs": [],
   "source": []
  },
  {
   "cell_type": "code",
   "execution_count": null,
   "id": "8d43d633",
   "metadata": {},
   "outputs": [],
   "source": []
  },
  {
   "cell_type": "code",
   "execution_count": null,
   "id": "c15ea983",
   "metadata": {},
   "outputs": [],
   "source": [
    "import plotly"
   ]
  }
 ],
 "metadata": {
  "kernelspec": {
   "display_name": "base",
   "language": "python",
   "name": "python3"
  },
  "language_info": {
   "codemirror_mode": {
    "name": "ipython",
    "version": 3
   },
   "file_extension": ".py",
   "mimetype": "text/x-python",
   "name": "python",
   "nbconvert_exporter": "python",
   "pygments_lexer": "ipython3",
   "version": "3.10.9"
  }
 },
 "nbformat": 4,
 "nbformat_minor": 5
}
